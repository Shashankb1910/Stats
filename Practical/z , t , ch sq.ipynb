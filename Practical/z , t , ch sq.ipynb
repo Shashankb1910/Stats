{
 "cells": [
  {
   "cell_type": "code",
   "execution_count": 1,
   "id": "b0fe5d9c",
   "metadata": {},
   "outputs": [],
   "source": [
    "import numpy as np"
   ]
  },
  {
   "cell_type": "code",
   "execution_count": 2,
   "id": "8699cf18",
   "metadata": {},
   "outputs": [],
   "source": [
    "import scipy.stats as stats"
   ]
  },
  {
   "cell_type": "markdown",
   "id": "3747192e",
   "metadata": {},
   "source": [
    "## *************** Z Test Question 1 *********************"
   ]
  },
  {
   "cell_type": "code",
   "execution_count": 3,
   "id": "ed884ae4",
   "metadata": {},
   "outputs": [],
   "source": [
    "sample_mean=110\n",
    "population_mean=100\n",
    "population_std=15\n",
    "sample_size=50\n",
    "alpha=0.05"
   ]
  },
  {
   "cell_type": "code",
   "execution_count": 6,
   "id": "49a7dccc",
   "metadata": {},
   "outputs": [],
   "source": [
    "conf_int = 1- 0.05"
   ]
  },
  {
   "cell_type": "code",
   "execution_count": 7,
   "id": "a47ce789",
   "metadata": {},
   "outputs": [
    {
     "data": {
      "text/plain": [
       "0.95"
      ]
     },
     "execution_count": 7,
     "metadata": {},
     "output_type": "execute_result"
    }
   ],
   "source": [
    "conf_int"
   ]
  },
  {
   "cell_type": "code",
   "execution_count": 4,
   "id": "81d0cd16",
   "metadata": {},
   "outputs": [],
   "source": [
    "# ** 1 ** cal z score\n",
    "\n",
    "z_score=(sample_mean - population_mean)/(population_std/np.sqrt(50))"
   ]
  },
  {
   "cell_type": "code",
   "execution_count": 5,
   "id": "1b3d6ce8",
   "metadata": {},
   "outputs": [
    {
     "data": {
      "text/plain": [
       "4.714045207910317"
      ]
     },
     "execution_count": 5,
     "metadata": {},
     "output_type": "execute_result"
    }
   ],
   "source": [
    "z_score"
   ]
  },
  {
   "cell_type": "code",
   "execution_count": 11,
   "id": "bc65a8e6",
   "metadata": {},
   "outputs": [],
   "source": [
    "# ** 2 ** cal z critical ------- same as checking in z tble\n",
    "\n",
    "z_crit=stats.norm.ppf(conf_int)"
   ]
  },
  {
   "cell_type": "code",
   "execution_count": 12,
   "id": "0a4835f5",
   "metadata": {},
   "outputs": [
    {
     "data": {
      "text/plain": [
       "1.6448536269514722"
      ]
     },
     "execution_count": 12,
     "metadata": {},
     "output_type": "execute_result"
    }
   ],
   "source": [
    "z_crit"
   ]
  },
  {
   "cell_type": "code",
   "execution_count": 9,
   "id": "f22d43f4",
   "metadata": {},
   "outputs": [],
   "source": [
    "# ** 3 ** reject or accept null"
   ]
  },
  {
   "cell_type": "code",
   "execution_count": 13,
   "id": "5e2914dc",
   "metadata": {},
   "outputs": [
    {
     "name": "stdout",
     "output_type": "stream",
     "text": [
      "reject null hypo\n"
     ]
    }
   ],
   "source": [
    "if z_score > z_crit:\n",
    "    print(\"reject null hypo\")\n",
    "else:\n",
    "    print(\"accept null hypo / fail to reject null hypo\")"
   ]
  },
  {
   "cell_type": "code",
   "execution_count": 14,
   "id": "b45dbc3d",
   "metadata": {},
   "outputs": [],
   "source": [
    "# ** 4 ** check p value ----1.64 _____ 4.71"
   ]
  },
  {
   "cell_type": "code",
   "execution_count": 15,
   "id": "0779bc35",
   "metadata": {},
   "outputs": [],
   "source": [
    "p_value = 1 - 0.9999966  # check z table for 4.71"
   ]
  },
  {
   "cell_type": "code",
   "execution_count": 16,
   "id": "9a134e10",
   "metadata": {},
   "outputs": [
    {
     "data": {
      "text/plain": [
       "3.399999999986747e-06"
      ]
     },
     "execution_count": 16,
     "metadata": {},
     "output_type": "execute_result"
    }
   ],
   "source": [
    "p_value"
   ]
  },
  {
   "cell_type": "code",
   "execution_count": 17,
   "id": "40acc558",
   "metadata": {},
   "outputs": [
    {
     "name": "stdout",
     "output_type": "stream",
     "text": [
      "reject the null hyphothesis\n"
     ]
    }
   ],
   "source": [
    "if p_value<alpha:\n",
    "    print(\"reject the null hyphothesis\")\n",
    "    \n",
    "else:\n",
    "    print(\"fail to reject the null hyphothesis\")"
   ]
  },
  {
   "cell_type": "markdown",
   "id": "538c5682",
   "metadata": {},
   "source": [
    "## ****************** Question 2 *******************"
   ]
  },
  {
   "cell_type": "code",
   "execution_count": 19,
   "id": "2aac5dff",
   "metadata": {},
   "outputs": [],
   "source": [
    "sample_mean= 169.5\n",
    "population_mean=168\n",
    "population_std=3.9\n",
    "sample_size=36\n",
    "alpha=0.05"
   ]
  },
  {
   "cell_type": "code",
   "execution_count": 20,
   "id": "a0edbf46",
   "metadata": {},
   "outputs": [],
   "source": [
    "conf_int = 1- 0.05"
   ]
  },
  {
   "cell_type": "code",
   "execution_count": 21,
   "id": "8009236b",
   "metadata": {},
   "outputs": [
    {
     "data": {
      "text/plain": [
       "0.95"
      ]
     },
     "execution_count": 21,
     "metadata": {},
     "output_type": "execute_result"
    }
   ],
   "source": [
    "conf_int"
   ]
  },
  {
   "cell_type": "code",
   "execution_count": 33,
   "id": "b01a4a45",
   "metadata": {},
   "outputs": [],
   "source": [
    "# ** 1 ** cal z score\n",
    "\n",
    "z_score=(sample_mean - population_mean)/(population_std/np.sqrt(36))"
   ]
  },
  {
   "cell_type": "code",
   "execution_count": 34,
   "id": "a2729d71",
   "metadata": {},
   "outputs": [
    {
     "data": {
      "text/plain": [
       "2.3076923076923075"
      ]
     },
     "execution_count": 34,
     "metadata": {},
     "output_type": "execute_result"
    }
   ],
   "source": [
    "z_score"
   ]
  },
  {
   "cell_type": "code",
   "execution_count": 35,
   "id": "7b7e097c",
   "metadata": {},
   "outputs": [],
   "source": [
    "# ** 2 ** cal z critical ------- same as checking in z tble\n",
    "\n",
    "z_crit=stats.norm.ppf(conf_int)"
   ]
  },
  {
   "cell_type": "code",
   "execution_count": 36,
   "id": "e8d810a9",
   "metadata": {},
   "outputs": [
    {
     "data": {
      "text/plain": [
       "1.6448536269514722"
      ]
     },
     "execution_count": 36,
     "metadata": {},
     "output_type": "execute_result"
    }
   ],
   "source": [
    "z_crit"
   ]
  },
  {
   "cell_type": "code",
   "execution_count": 37,
   "id": "4c21f281",
   "metadata": {},
   "outputs": [
    {
     "name": "stdout",
     "output_type": "stream",
     "text": [
      "reject null hypo\n"
     ]
    }
   ],
   "source": [
    "if z_score > z_crit:\n",
    "    print(\"reject null hypo\")\n",
    "else:\n",
    "    print(\"accept null hypo / fail to reject null hypo\")"
   ]
  },
  {
   "cell_type": "code",
   "execution_count": 27,
   "id": "26beeec5",
   "metadata": {},
   "outputs": [],
   "source": [
    "# ** 4 ** check p value"
   ]
  },
  {
   "cell_type": "code",
   "execution_count": 38,
   "id": "a2ac6880",
   "metadata": {},
   "outputs": [],
   "source": [
    "p_value = 2 * (1 - stats.norm.cdf(abs(z_score)))"
   ]
  },
  {
   "cell_type": "code",
   "execution_count": 39,
   "id": "6ab7454e",
   "metadata": {},
   "outputs": [
    {
     "data": {
      "text/plain": [
       "0.02101625622751868"
      ]
     },
     "execution_count": 39,
     "metadata": {},
     "output_type": "execute_result"
    }
   ],
   "source": [
    "p_value"
   ]
  },
  {
   "cell_type": "code",
   "execution_count": 40,
   "id": "c811368b",
   "metadata": {},
   "outputs": [
    {
     "name": "stdout",
     "output_type": "stream",
     "text": [
      "reject the null hyphothesis\n"
     ]
    }
   ],
   "source": [
    "if p_value<alpha:\n",
    "    print(\"reject the null hyphothesis\")\n",
    "    \n",
    "else:\n",
    "    print(\"fail to reject the null hyphothesis\")"
   ]
  },
  {
   "cell_type": "code",
   "execution_count": 56,
   "id": "92bcf604",
   "metadata": {},
   "outputs": [],
   "source": [
    "import scipy.stats"
   ]
  },
  {
   "cell_type": "code",
   "execution_count": 63,
   "id": "61c0824a",
   "metadata": {},
   "outputs": [],
   "source": [
    "pv=scipy.stats.norm.sf(abs(z_score))*2"
   ]
  },
  {
   "cell_type": "code",
   "execution_count": 64,
   "id": "789326f1",
   "metadata": {},
   "outputs": [
    {
     "data": {
      "text/plain": [
       "0.021016256227518675"
      ]
     },
     "execution_count": 64,
     "metadata": {},
     "output_type": "execute_result"
    }
   ],
   "source": [
    "pv"
   ]
  },
  {
   "cell_type": "markdown",
   "id": "c240dd5e",
   "metadata": {},
   "source": [
    "## ****************** Question 3 *******************"
   ]
  },
  {
   "cell_type": "code",
   "execution_count": null,
   "id": "714820e2",
   "metadata": {},
   "outputs": [],
   "source": [
    "sample_mean= 4.8\n",
    "population_mean=5\n",
    "population_std=0.50\n",
    "sample_size=40\n",
    "alpha=0.02"
   ]
  },
  {
   "cell_type": "code",
   "execution_count": 66,
   "id": "e55a5ad5",
   "metadata": {},
   "outputs": [],
   "source": [
    "conf_int = 1- 0.02"
   ]
  },
  {
   "cell_type": "code",
   "execution_count": 67,
   "id": "094b5577",
   "metadata": {},
   "outputs": [
    {
     "data": {
      "text/plain": [
       "0.98"
      ]
     },
     "execution_count": 67,
     "metadata": {},
     "output_type": "execute_result"
    }
   ],
   "source": [
    "conf_int"
   ]
  },
  {
   "cell_type": "code",
   "execution_count": 68,
   "id": "b9e77e20",
   "metadata": {},
   "outputs": [],
   "source": [
    "# ** 1 ** cal z score\n",
    "\n",
    "z_score=(sample_mean - population_mean)/(population_std/np.sqrt(40))"
   ]
  },
  {
   "cell_type": "code",
   "execution_count": 69,
   "id": "4e2cb483",
   "metadata": {},
   "outputs": [
    {
     "data": {
      "text/plain": [
       "2.4325212770525995"
      ]
     },
     "execution_count": 69,
     "metadata": {},
     "output_type": "execute_result"
    }
   ],
   "source": [
    "z_score"
   ]
  },
  {
   "cell_type": "code",
   "execution_count": 70,
   "id": "bffddeaa",
   "metadata": {},
   "outputs": [],
   "source": [
    "# ** 2 ** cal z critical ------- same as checking in z tble\n",
    "\n",
    "z_crit=stats.norm.ppf(conf_int)"
   ]
  },
  {
   "cell_type": "code",
   "execution_count": 71,
   "id": "6016324d",
   "metadata": {},
   "outputs": [
    {
     "data": {
      "text/plain": [
       "2.0537489106318225"
      ]
     },
     "execution_count": 71,
     "metadata": {},
     "output_type": "execute_result"
    }
   ],
   "source": [
    "z_crit"
   ]
  },
  {
   "cell_type": "code",
   "execution_count": 72,
   "id": "6345c6b7",
   "metadata": {},
   "outputs": [
    {
     "name": "stdout",
     "output_type": "stream",
     "text": [
      "reject null hypo\n"
     ]
    }
   ],
   "source": [
    "if z_score > z_crit:\n",
    "    print(\"reject null hypo\")\n",
    "else:\n",
    "    print(\"accept null hypo / fail to reject null hypo\")"
   ]
  },
  {
   "cell_type": "code",
   "execution_count": 73,
   "id": "091d437f",
   "metadata": {},
   "outputs": [],
   "source": [
    "# ** 4 ** check p value"
   ]
  },
  {
   "cell_type": "code",
   "execution_count": 74,
   "id": "a4889034",
   "metadata": {},
   "outputs": [],
   "source": [
    "pv=scipy.stats.norm.sf(abs(-2.43))\n"
   ]
  },
  {
   "cell_type": "code",
   "execution_count": 75,
   "id": "740590fc",
   "metadata": {},
   "outputs": [
    {
     "data": {
      "text/plain": [
       "0.007549411416309199"
      ]
     },
     "execution_count": 75,
     "metadata": {},
     "output_type": "execute_result"
    }
   ],
   "source": [
    "pv"
   ]
  },
  {
   "cell_type": "code",
   "execution_count": 76,
   "id": "b914d0cd",
   "metadata": {},
   "outputs": [
    {
     "name": "stdout",
     "output_type": "stream",
     "text": [
      "reject the null hyphothesis\n"
     ]
    }
   ],
   "source": [
    "if pv<alpha:\n",
    "    print(\"reject the null hyphothesis\")\n",
    "    \n",
    "else:\n",
    "    print(\"fail to reject the null hyphothesis\")"
   ]
  },
  {
   "cell_type": "code",
   "execution_count": null,
   "id": "81ea624c",
   "metadata": {},
   "outputs": [],
   "source": [
    "\n",
    "\n"
   ]
  },
  {
   "cell_type": "markdown",
   "id": "97b110ff",
   "metadata": {},
   "source": [
    "## ******************** solving using data ***********************"
   ]
  },
  {
   "cell_type": "code",
   "execution_count": 78,
   "id": "114c8bf3",
   "metadata": {},
   "outputs": [],
   "source": [
    "from numpy.random import randn"
   ]
  },
  {
   "cell_type": "code",
   "execution_count": 79,
   "id": "9b2d8c2c",
   "metadata": {},
   "outputs": [],
   "source": [
    "mydata=randn(500)"
   ]
  },
  {
   "cell_type": "code",
   "execution_count": 80,
   "id": "ff869644",
   "metadata": {},
   "outputs": [
    {
     "name": "stdout",
     "output_type": "stream",
     "text": [
      "[ 3.65682485e-02  6.63514150e-01 -4.46011038e-01  9.55961128e-01\n",
      " -2.22712938e+00  3.10039290e-01  3.43362813e-01 -1.57246930e+00\n",
      " -1.74427272e-01  6.12263369e-01  1.31845818e+00 -1.70141329e+00\n",
      " -3.08213325e-04  2.48454627e-02  5.19524875e-01  9.65696353e-01\n",
      "  1.48925692e+00  4.75738484e-01 -5.22753883e-02  1.31579931e+00\n",
      "  1.90391670e+00 -2.30445494e+00  4.91599779e-01  1.39214507e+00\n",
      "  5.94919600e-01 -1.62119416e+00  3.17065360e-01  2.26873826e-01\n",
      " -4.58330636e-01 -9.61893623e-01  1.78738258e+00  9.79222530e-01\n",
      " -5.92713294e-01 -5.94245585e-01  6.45348355e-01  1.04303989e+00\n",
      "  4.41797121e-01  5.50896135e-01 -1.61563817e+00 -8.33837587e-01\n",
      "  2.47478862e+00  4.36818825e-02  1.17641130e+00 -1.54017013e-03\n",
      "  1.91175041e-01 -1.23175027e+00 -1.27105902e+00 -5.78886413e-01\n",
      " -1.20768390e-01  7.26479363e-03 -1.27956650e+00  5.96388249e-01\n",
      " -1.36509809e+00 -4.31087441e-01  1.27670147e+00  1.61455622e+00\n",
      "  4.46152811e-01  5.04918029e-01 -3.40303012e-02 -1.56198364e-01\n",
      "  4.64485223e-01 -9.21798856e-01  1.13699599e+00  1.14502945e+00\n",
      "  3.93249360e-02 -5.61495559e-01 -9.38440291e-05 -1.76093155e+00\n",
      "  1.39178351e+00 -1.95099503e-01  7.40955965e-01  4.33395654e-01\n",
      "  1.39984323e-01  3.10512884e-01  1.73102306e-01  2.65746518e-02\n",
      " -1.09796228e+00 -1.45636461e+00  5.43419947e-01 -1.74744144e+00\n",
      " -6.07191728e-01  1.52230173e-01 -2.73826092e-02  1.46108855e+00\n",
      "  5.57464641e-01  4.07714651e-01  5.47967431e-01  1.26304765e+00\n",
      "  1.79619785e-01 -1.33420179e+00  1.39550684e+00  8.94883330e-01\n",
      " -8.22669342e-01 -1.54590939e+00  2.79120568e-01  7.45229993e-01\n",
      " -9.57144703e-03 -1.25874687e+00  1.54751532e+00 -3.63740340e-01\n",
      "  1.34866240e+00 -1.72645367e+00  2.65379632e-01 -4.37238096e-02\n",
      "  1.59882912e-03 -3.93200216e-02  1.92637439e+00  1.81521029e+00\n",
      "  1.83494217e+00  5.64167012e-01  7.51727694e-01 -1.03784986e+00\n",
      "  1.39067960e-01  1.98775526e+00 -7.96330542e-01 -3.74215090e-01\n",
      "  7.71616006e-01 -7.39637334e-01 -3.97424566e-01 -6.32876496e-01\n",
      " -1.53177184e+00 -1.21251371e+00 -3.66774873e-01 -7.75295234e-01\n",
      "  7.19616868e-01 -6.33102132e-01 -7.12858141e-02 -1.50976710e+00\n",
      " -1.58082882e+00  8.27641216e-01 -3.62389470e-02  7.92015705e-02\n",
      " -5.02294234e-01  7.43161056e-01  1.04740666e+00  2.77179518e-01\n",
      " -5.57712396e-01  8.85872704e-02  8.39366166e-01 -1.36188703e+00\n",
      "  7.09649044e-01 -3.79754418e-01 -1.41801857e+00 -7.69218719e-01\n",
      " -3.78620966e-01 -2.09408205e+00  1.87560665e-01  1.00440388e+00\n",
      "  3.03247011e-01 -3.50303692e-01  3.01124446e-01  1.01877536e+00\n",
      " -1.45553957e+00  8.16587087e-01 -4.18438332e-01 -6.32625987e-01\n",
      "  1.31253286e+00  6.06060379e-01 -9.64831925e-01 -3.92020763e-01\n",
      " -3.48993532e-02 -5.76519697e-01  6.74658842e-01  4.13096841e-01\n",
      " -2.05639268e+00  1.05439763e+00 -9.39327643e-01  3.17054235e-01\n",
      "  5.03263026e-01  3.28176966e-01 -1.56403607e-02 -1.73466690e+00\n",
      " -8.29543027e-01 -6.33242925e-01 -1.90939622e+00  1.10291420e+00\n",
      " -9.98773090e-01 -5.52239849e-01 -1.49368461e+00  1.37724435e+00\n",
      " -4.63509066e-01 -7.80737825e-01 -9.51432393e-01  7.49982108e-01\n",
      " -1.21843679e+00 -1.01728645e+00 -2.00520523e+00 -7.80256982e-01\n",
      " -1.81121943e+00 -4.94129238e-02 -1.26020394e+00  1.94720071e+00\n",
      " -1.25967698e+00  3.96043380e-01 -2.45641804e+00 -2.45067156e-01\n",
      "  1.45817616e+00  6.47911579e-01  8.07410987e-02 -2.32095978e+00\n",
      "  6.73914485e-02 -1.32425392e+00 -1.14843211e-01 -1.69379203e-02\n",
      "  1.56771283e-01  9.53419183e-01 -2.27198689e-03 -6.96614728e-01\n",
      " -1.18201688e-01 -2.15949189e-01 -6.14636053e-01 -5.89949867e-01\n",
      "  7.22988859e-01  8.90673127e-01  6.98412805e-01 -3.87007610e-01\n",
      " -1.02428964e-01 -2.94732352e-01  7.79975748e-01 -5.87907384e-01\n",
      " -1.45396579e+00 -1.28432501e+00 -7.78827675e-01 -1.04674109e+00\n",
      "  1.13934489e+00 -1.03959225e-01  1.90809204e-01 -2.72839481e+00\n",
      "  3.99805638e-01 -1.01046355e+00 -1.19486627e+00  1.98819330e+00\n",
      "  4.57795680e-02  7.40946665e-01 -6.07982450e-01 -4.15345226e-01\n",
      "  3.55230055e+00  3.44616936e-01 -2.86853261e-01 -8.59299441e-01\n",
      " -1.26981067e+00 -1.61494574e+00 -9.72818370e-02 -1.20542810e+00\n",
      "  7.07794904e-01  3.56200398e-01  1.24839550e+00  9.11866203e-01\n",
      " -1.17810997e+00 -1.96880164e-01 -1.74247277e-01 -1.59523583e+00\n",
      "  1.82101930e+00  1.22319817e+00 -3.46684949e-01  5.08991814e-01\n",
      "  1.52770731e+00 -2.46969725e-01  1.34934934e+00  6.13415956e-01\n",
      "  5.18200948e-01 -2.33297254e+00 -4.37472166e-01  2.24566419e-01\n",
      " -1.88304720e-01 -3.13809950e-01 -3.95346634e-01 -1.21361733e+00\n",
      " -9.15289384e-01  2.31430108e-01 -8.14139545e-01  4.70616301e-01\n",
      " -4.70320910e-01 -3.45342832e-01 -7.38052902e-01 -3.74129873e-01\n",
      "  2.27039953e-01  1.08699435e+00 -1.39475777e+00  1.82106593e-01\n",
      "  7.25262167e-01 -7.64942848e-01  2.58735350e-01  1.33176785e-01\n",
      "  3.27846031e-01  9.58267763e-01  5.42461590e-01 -1.79773162e+00\n",
      "  1.17509239e-01 -3.11153444e-01  3.12350277e-01  7.02347641e-01\n",
      " -1.60972525e-01  2.01884850e-01  1.33422308e-01 -4.59686645e-01\n",
      "  1.64664807e+00 -6.69919305e-02 -1.72574589e+00  1.69158624e+00\n",
      "  1.06089844e+00  1.16117639e+00  1.28955798e+00  4.81234352e-01\n",
      " -7.52886596e-01 -9.25695574e-01  2.00065963e-01  1.35565900e-02\n",
      "  1.45648756e-01 -4.42102606e-01 -3.87425013e-01  2.60846239e-01\n",
      "  9.71620042e-02 -3.30595908e-01 -4.21710353e-01 -3.97296234e-01\n",
      " -3.05408420e-01 -2.93617556e-01  3.33369359e-02 -7.79087957e-01\n",
      "  6.95238125e-02  3.15974483e-01  9.22492025e-01  9.64231170e-02\n",
      "  1.77592316e+00 -1.04373709e+00 -6.11750407e-01  6.86007324e-01\n",
      " -4.74364878e-01 -7.71528969e-01  5.91554617e-01  3.41293446e-01\n",
      " -9.63790716e-01  5.42967599e-01  1.05170056e-01 -5.40068730e-01\n",
      "  1.67686189e-01  5.02485772e-01  2.66101323e+00  3.41731664e-02\n",
      "  4.80663022e-02 -1.36603798e+00 -5.12915789e-01  3.28918211e-01\n",
      " -2.35118621e-01  2.12423058e+00  6.94485361e-01 -1.47821472e+00\n",
      "  6.08256051e-01  7.12754908e-01  1.40224304e-01  7.09814565e-01\n",
      " -5.05857055e-01 -7.61099304e-01  5.67475567e-01 -1.68384628e-01\n",
      " -1.27871674e+00  8.16210021e-01  1.08002612e+00 -7.25056741e-01\n",
      "  6.67936363e-01 -2.91752984e+00 -1.86417943e+00  1.68119944e-02\n",
      " -7.78956601e-01  1.25591195e+00  3.84999162e-02  9.38150364e-01\n",
      " -1.33580739e+00  2.24768205e+00  1.31946087e+00  5.26155901e-02\n",
      " -6.46548821e-01  1.42716607e+00 -1.84018432e+00  2.60575122e-01\n",
      " -4.40421393e-01 -3.14405074e-01 -1.80258350e+00  1.20782508e-01\n",
      "  1.77411261e-01  5.79707234e-02 -8.76007566e-01 -1.22022551e-01\n",
      " -9.35556559e-01  1.31473656e+00  1.88199656e-01 -6.26867958e-01\n",
      " -4.21870386e-01  1.00956465e+00 -9.44553029e-02  8.44638752e-01\n",
      "  7.10781638e-01  7.69019173e-02 -7.62318559e-01 -1.45062222e+00\n",
      "  6.35721180e-01  6.22059621e-01  2.36296681e-01 -1.25646463e+00\n",
      "  5.46685255e-01  6.28646593e-01 -3.10953744e-01 -8.91330515e-01\n",
      "  5.23903886e-01 -2.88413551e-01 -1.97739448e+00  1.72962037e-01\n",
      " -6.89550367e-01 -2.49595053e-02  1.47853693e+00  1.44084682e+00\n",
      " -1.49623001e-02 -1.48412363e-01  6.75186516e-01 -1.19740763e+00\n",
      "  2.25892755e-01 -1.53443285e-02 -7.68356213e-01  1.93817230e-01\n",
      "  1.22934645e+00  2.21900719e+00 -3.82158829e-01 -3.57554034e-01\n",
      " -3.45629066e-01 -3.01730456e-01  1.09628645e+00  4.36871465e-02\n",
      "  9.03256033e-01 -1.12407746e+00  6.67858860e-01  6.26333364e-01\n",
      "  1.60719610e+00 -2.94868956e-01 -3.24055940e+00  9.75734059e-01\n",
      "  4.02389159e-01 -2.65984717e-01  2.78680116e-01  2.68705138e-01\n",
      " -1.84240859e+00 -1.90682530e+00 -1.18912569e+00  3.65230382e-01\n",
      "  1.33334474e+00  7.91660980e-01 -1.91132446e-01  9.54862883e-01\n",
      "  4.92313004e-01  6.78934217e-01 -6.39523253e-01  5.04817003e-01\n",
      "  5.60967961e-01  5.04552188e-01  8.62142710e-01 -6.21151408e-01\n",
      "  4.08470919e-01 -2.27105560e-01 -1.44219439e-01 -2.91909486e-01\n",
      " -6.29989717e-01 -9.41933904e-02  4.41799722e-01 -7.60170975e-01\n",
      "  6.38270403e-02 -9.12346083e-01 -2.26492550e-01  2.25196556e+00\n",
      "  4.99078463e-01 -2.04094099e-01 -6.67699444e-01  1.95283348e+00\n",
      "  2.70067176e-01 -4.26195530e-01  5.10014398e-01  7.06232654e-01\n",
      " -5.64621707e-01  9.81977992e-01 -9.88384587e-02  2.82166043e+00\n",
      "  1.16332076e-01 -1.35125278e+00  2.73388220e-01  1.15511163e+00\n",
      "  6.36613256e-01  6.68787306e-01 -1.84501018e+00  6.40730782e-01\n",
      " -8.40944889e-02  4.79852154e-01  9.84446065e-01 -1.45454726e+00\n",
      " -1.06883044e-01 -1.83581455e+00 -4.70587324e-01  1.35098745e-01\n",
      " -2.32086077e+00  2.93754057e-01  7.29182354e-02 -1.45530063e-01]\n"
     ]
    }
   ],
   "source": [
    "print(mydata)"
   ]
  },
  {
   "cell_type": "code",
   "execution_count": 81,
   "id": "2e8a46e1",
   "metadata": {},
   "outputs": [],
   "source": [
    "import seaborn as sns"
   ]
  },
  {
   "cell_type": "code",
   "execution_count": 83,
   "id": "b2802b61",
   "metadata": {},
   "outputs": [
    {
     "name": "stderr",
     "output_type": "stream",
     "text": [
      "C:\\Users\\badgu\\AppData\\Local\\Temp\\ipykernel_29440\\2553040580.py:1: UserWarning: \n",
      "\n",
      "`distplot` is a deprecated function and will be removed in seaborn v0.14.0.\n",
      "\n",
      "Please adapt your code to use either `displot` (a figure-level function with\n",
      "similar flexibility) or `histplot` (an axes-level function for histograms).\n",
      "\n",
      "For a guide to updating your code to use the new functions, please see\n",
      "https://gist.github.com/mwaskom/de44147ed2974457ad6372750bbe5751\n",
      "\n",
      "  sns.distplot(mydata)\n"
     ]
    },
    {
     "data": {
      "text/plain": [
       "<Axes: ylabel='Density'>"
      ]
     },
     "execution_count": 83,
     "metadata": {},
     "output_type": "execute_result"
    },
    {
     "data": {
      "image/png": "[encoded data removed]",
      "text/plain": [
       "<Figure size 640x480 with 1 Axes>"
      ]
     },
     "metadata": {},
     "output_type": "display_data"
    }
   ],
   "source": [
    "sns.distplot(mydata)"
   ]
  },
  {
   "cell_type": "code",
   "execution_count": 84,
   "id": "63d4ebe4",
   "metadata": {},
   "outputs": [
    {
     "data": {
      "text/plain": [
       "NormaltestResult(statistic=2.6270371462538105, pvalue=0.26887234306225805)"
      ]
     },
     "execution_count": 84,
     "metadata": {},
     "output_type": "execute_result"
    }
   ],
   "source": [
    "from scipy import stats\n",
    "stats.normaltest(mydata)"
   ]
  },
  {
   "cell_type": "markdown",
   "id": "99836817",
   "metadata": {},
   "source": [
    "## *************** Another approach ***********************"
   ]
  },
  {
   "cell_type": "code",
   "execution_count": 86,
   "id": "09b607db",
   "metadata": {},
   "outputs": [],
   "source": [
    "alpha=0.05\n",
    "CI=0.95"
   ]
  },
  {
   "cell_type": "code",
   "execution_count": 87,
   "id": "fa655d0c",
   "metadata": {},
   "outputs": [],
   "source": [
    "sample_mean_iq=110\n",
    "mean_population=100\n",
    "population_std=15"
   ]
  },
  {
   "cell_type": "code",
   "execution_count": 88,
   "id": "f1c791b2",
   "metadata": {},
   "outputs": [
    {
     "data": {
      "text/plain": [
       "array([ 66.96618084,  91.39560783,  82.69139494, 123.47014989,\n",
       "        91.33483513,  84.10804463,  92.17400342, 127.40918759,\n",
       "       127.87846369, 109.29513058,  92.01061955,  97.93713288,\n",
       "        70.34950532, 130.76451771, 100.22004986, 116.19680617,\n",
       "       102.62046672, 110.33712185, 112.1554434 ,  95.40045356,\n",
       "       109.58823264, 112.29591838, 123.01064875, 136.27943095,\n",
       "       122.13545718, 122.74166878, 128.04656085, 117.67262488,\n",
       "        98.28523341,  82.93146148, 123.00760272,  87.41298725,\n",
       "       123.9470995 ,  85.0030539 , 129.66839805, 108.73738357,\n",
       "       114.47487899,  94.97700611, 113.59673178,  66.22526475,\n",
       "       116.02163643, 126.30593443,  87.64645897,  95.82322905,\n",
       "       115.7305981 ,  94.59712352,  99.70881742, 112.67519802,\n",
       "       112.82375778,  96.46013485])"
      ]
     },
     "execution_count": 88,
     "metadata": {},
     "output_type": "execute_result"
    }
   ],
   "source": [
    "population_std*randn(50)+sample_mean_iq"
   ]
  },
  {
   "cell_type": "code",
   "execution_count": 89,
   "id": "2d0ec5c7",
   "metadata": {},
   "outputs": [],
   "source": [
    "data=population_std*randn(50)+sample_mean_iq"
   ]
  },
  {
   "cell_type": "code",
   "execution_count": 90,
   "id": "a250e632",
   "metadata": {},
   "outputs": [
    {
     "data": {
      "text/plain": [
       "array([118.67620572, 100.08706261, 103.93047191, 122.4510289 ,\n",
       "       103.06527797, 124.46327836,  90.59388728,  99.3119118 ,\n",
       "       113.19589203,  96.4633494 , 104.92478506, 146.9460968 ,\n",
       "       116.39200478,  99.45725886, 117.87590676, 105.87303425,\n",
       "        95.84939405,  75.69133404, 103.27808902, 110.04121335,\n",
       "       113.70584405, 103.23092722, 109.48908363, 106.27629583,\n",
       "       106.85693908,  92.72145496, 120.11701041,  93.16210631,\n",
       "       107.47254786, 128.2138217 , 107.42583328, 116.51296591,\n",
       "       111.04654141, 123.81585613, 113.42377512, 119.67773979,\n",
       "       126.11222499, 129.49552679, 121.10760787, 105.09266247,\n",
       "       102.95698357, 112.04444013, 155.80451395, 121.25834704,\n",
       "       118.88841021, 113.45596803, 129.07015026,  98.57084439,\n",
       "       113.37045401, 106.46461234])"
      ]
     },
     "execution_count": 90,
     "metadata": {},
     "output_type": "execute_result"
    }
   ],
   "source": [
    "data"
   ]
  },
  {
   "cell_type": "code",
   "execution_count": 91,
   "id": "36a45334",
   "metadata": {},
   "outputs": [
    {
     "data": {
      "text/plain": [
       "111.50817943399062"
      ]
     },
     "execution_count": 91,
     "metadata": {},
     "output_type": "execute_result"
    }
   ],
   "source": [
    "np.mean(data)"
   ]
  },
  {
   "cell_type": "code",
   "execution_count": 92,
   "id": "0988943c",
   "metadata": {
    "scrolled": true
   },
   "outputs": [
    {
     "data": {
      "text/plain": [
       "13.68570912959755"
      ]
     },
     "execution_count": 92,
     "metadata": {},
     "output_type": "execute_result"
    }
   ],
   "source": [
    "np.std(data)"
   ]
  },
  {
   "cell_type": "code",
   "execution_count": 93,
   "id": "62a28acc",
   "metadata": {},
   "outputs": [],
   "source": [
    "null_hyphothesis=mean_population"
   ]
  },
  {
   "cell_type": "code",
   "execution_count": 94,
   "id": "9c202177",
   "metadata": {},
   "outputs": [
    {
     "data": {
      "text/plain": [
       "(5.886231782006552, 1.975500611143039e-09)"
      ]
     },
     "execution_count": 94,
     "metadata": {},
     "output_type": "execute_result"
    }
   ],
   "source": [
    "from statsmodels.stats.weightstats import ztest\n",
    "ztest(data,value=null_hyphothesis,alternative=\"larger\")"
   ]
  },
  {
   "cell_type": "code",
   "execution_count": 95,
   "id": "87cd3b94",
   "metadata": {},
   "outputs": [
    {
     "name": "stdout",
     "output_type": "stream",
     "text": [
      "reject the null hyphothesis\n"
     ]
    }
   ],
   "source": [
    "if p_value<alpha:\n",
    "    print(\"reject the null hyphothesis\")\n",
    "    \n",
    "else:\n",
    "    print(\"fail to reject the null hyphothesis\")"
   ]
  },
  {
   "cell_type": "markdown",
   "id": "8b0a4056",
   "metadata": {},
   "source": [
    "# ******-----******** T Test ******-----********"
   ]
  },
  {
   "cell_type": "markdown",
   "id": "fe94b38e",
   "metadata": {},
   "source": [
    "one-sample t test(with respect to one independent sample)\n",
    "two- sample t test(with respect to two independent sample)\n",
    "paried t-test(two sample from the same populatoin on a different time interval)"
   ]
  },
  {
   "cell_type": "markdown",
   "id": "6df50a51",
   "metadata": {},
   "source": [
    "## one-sample t test(with respect to one independent sample)"
   ]
  },
  {
   "cell_type": "code",
   "execution_count": 98,
   "id": "e0cc0ef0",
   "metadata": {},
   "outputs": [],
   "source": [
    "my_cricket_score=[22,38,19,15,48,11,10,49,47,38,10,25,46,10,21,24,29,36,25,25]"
   ]
  },
  {
   "cell_type": "code",
   "execution_count": 99,
   "id": "6283d132",
   "metadata": {},
   "outputs": [
    {
     "data": {
      "text/plain": [
       "20"
      ]
     },
     "execution_count": 99,
     "metadata": {},
     "output_type": "execute_result"
    }
   ],
   "source": [
    "len(my_cricket_score)"
   ]
  },
  {
   "cell_type": "code",
   "execution_count": 102,
   "id": "9512c5bf",
   "metadata": {},
   "outputs": [],
   "source": [
    "sample_mean=np.mean(my_cricket_score)"
   ]
  },
  {
   "cell_type": "code",
   "execution_count": 103,
   "id": "b6ecdfe5",
   "metadata": {},
   "outputs": [
    {
     "data": {
      "text/plain": [
       "27.4"
      ]
     },
     "execution_count": 103,
     "metadata": {},
     "output_type": "execute_result"
    }
   ],
   "source": [
    "sample_mean"
   ]
  },
  {
   "cell_type": "code",
   "execution_count": null,
   "id": "56d77552",
   "metadata": {},
   "outputs": [],
   "source": [
    "null_hyphothesis=>>population mean/true=sample mean "
   ]
  },
  {
   "cell_type": "code",
   "execution_count": 105,
   "id": "3363ea89",
   "metadata": {},
   "outputs": [],
   "source": [
    "import scipy\n",
    "result=scipy.stats.ttest_1samp(my_cricket_score,15) # 15 because its far from sample mean"
   ]
  },
  {
   "cell_type": "code",
   "execution_count": 106,
   "id": "04190baa",
   "metadata": {},
   "outputs": [
    {
     "data": {
      "text/plain": [
       "TtestResult(statistic=4.131642363779888, pvalue=0.0005672503150661017, df=19)"
      ]
     },
     "execution_count": 106,
     "metadata": {},
     "output_type": "execute_result"
    }
   ],
   "source": [
    "result"
   ]
  },
  {
   "cell_type": "code",
   "execution_count": 107,
   "id": "14208644",
   "metadata": {},
   "outputs": [],
   "source": [
    "p_value=result[1]"
   ]
  },
  {
   "cell_type": "code",
   "execution_count": 108,
   "id": "83e35e4f",
   "metadata": {},
   "outputs": [
    {
     "data": {
      "text/plain": [
       "0.0005672503150661017"
      ]
     },
     "execution_count": 108,
     "metadata": {},
     "output_type": "execute_result"
    }
   ],
   "source": [
    "p_value"
   ]
  },
  {
   "cell_type": "code",
   "execution_count": 109,
   "id": "03fd820b",
   "metadata": {},
   "outputs": [
    {
     "name": "stdout",
     "output_type": "stream",
     "text": [
      "reject the null hyphothesis\n"
     ]
    }
   ],
   "source": [
    "if p_value<=0.05:\n",
    "    print(\"reject the null hyphothesis\")\n",
    "\n",
    "else:\n",
    "    print(\"accept the null hyphthesis\")"
   ]
  },
  {
   "cell_type": "markdown",
   "id": "e1417f2f",
   "metadata": {},
   "source": [
    "## Now checking with popn mean near to sample mean i.e 27.4"
   ]
  },
  {
   "cell_type": "code",
   "execution_count": 111,
   "id": "0ab7441c",
   "metadata": {},
   "outputs": [],
   "source": [
    "result=scipy.stats.ttest_1samp(my_cricket_score,25)"
   ]
  },
  {
   "cell_type": "code",
   "execution_count": 112,
   "id": "fa4280bf",
   "metadata": {},
   "outputs": [
    {
     "data": {
      "text/plain": [
       "TtestResult(statistic=0.7996727155703006, pvalue=0.43378494322168415, df=19)"
      ]
     },
     "execution_count": 112,
     "metadata": {},
     "output_type": "execute_result"
    }
   ],
   "source": [
    "result"
   ]
  },
  {
   "cell_type": "code",
   "execution_count": 113,
   "id": "d5da1f4a",
   "metadata": {},
   "outputs": [],
   "source": [
    "p_value=result[1]"
   ]
  },
  {
   "cell_type": "code",
   "execution_count": 114,
   "id": "8457423e",
   "metadata": {},
   "outputs": [
    {
     "data": {
      "text/plain": [
       "0.43378494322168415"
      ]
     },
     "execution_count": 114,
     "metadata": {},
     "output_type": "execute_result"
    }
   ],
   "source": [
    "p_value"
   ]
  },
  {
   "cell_type": "code",
   "execution_count": 115,
   "id": "bb359715",
   "metadata": {},
   "outputs": [
    {
     "name": "stdout",
     "output_type": "stream",
     "text": [
      "accept the null hyphthesis\n"
     ]
    }
   ],
   "source": [
    "if p_value<=0.05:\n",
    "    print(\"reject the null hyphothesis\")\n",
    "\n",
    "else:\n",
    "    print(\"accept the null hyphthesis\")"
   ]
  },
  {
   "cell_type": "markdown",
   "id": "263a1c20",
   "metadata": {},
   "source": [
    "## two- sample t test(with respect to two independent sample)"
   ]
  },
  {
   "cell_type": "code",
   "execution_count": 131,
   "id": "c22e84dc",
   "metadata": {},
   "outputs": [],
   "source": [
    "my_cricket_score=[22, 38, 9, 4, 48, 49, 47, 38, 20, 45, 46, 29,36, 25, 24,12,7,5,14]\n",
    "\n",
    "virat_cricket_score=[33, 45, 23, 25, 46, 46, 46, 49, 49, 44, 44, 49, 25, 31, 25, 40, 30,20, 42, 37]"
   ]
  },
  {
   "cell_type": "code",
   "execution_count": 132,
   "id": "884dfaa6",
   "metadata": {},
   "outputs": [],
   "source": [
    "my_cricket_score_mean=np.mean(my_cricket_score)"
   ]
  },
  {
   "cell_type": "code",
   "execution_count": 133,
   "id": "67f69e9e",
   "metadata": {},
   "outputs": [
    {
     "data": {
      "text/plain": [
       "27.263157894736842"
      ]
     },
     "execution_count": 133,
     "metadata": {},
     "output_type": "execute_result"
    }
   ],
   "source": [
    "my_cricket_score_mean"
   ]
  },
  {
   "cell_type": "code",
   "execution_count": 120,
   "id": "8e607f62",
   "metadata": {},
   "outputs": [],
   "source": [
    "virat_cricket_score_mean=np.mean(virat_cricket_score)"
   ]
  },
  {
   "cell_type": "code",
   "execution_count": 121,
   "id": "620b485f",
   "metadata": {},
   "outputs": [
    {
     "data": {
      "text/plain": [
       "37.45"
      ]
     },
     "execution_count": 121,
     "metadata": {},
     "output_type": "execute_result"
    }
   ],
   "source": [
    "virat_cricket_score_mean"
   ]
  },
  {
   "cell_type": "code",
   "execution_count": null,
   "id": "0470f796",
   "metadata": {},
   "outputs": [],
   "source": [
    "my_null_hyphthesis=both sample mean will be equal"
   ]
  },
  {
   "cell_type": "code",
   "execution_count": 137,
   "id": "0da95a48",
   "metadata": {},
   "outputs": [],
   "source": [
    "t_stats,pvalue=scipy.stats.ttest_ind(my_cricket_score,virat_cricket_score) # ind means independent"
   ]
  },
  {
   "cell_type": "code",
   "execution_count": 139,
   "id": "ef0a2818",
   "metadata": {},
   "outputs": [
    {
     "data": {
      "text/plain": [
       "0.02101689177153714"
      ]
     },
     "execution_count": 139,
     "metadata": {},
     "output_type": "execute_result"
    }
   ],
   "source": [
    "pvalue"
   ]
  },
  {
   "cell_type": "code",
   "execution_count": 140,
   "id": "cb812c0a",
   "metadata": {},
   "outputs": [
    {
     "name": "stdout",
     "output_type": "stream",
     "text": [
      "reject the null hyphothesis\n"
     ]
    }
   ],
   "source": [
    "if pvalue<=0.05:\n",
    "    print(\"reject the null hyphothesis\")\n",
    "else:\n",
    "    print(\"Accept the null hyphothesis\")"
   ]
  },
  {
   "cell_type": "markdown",
   "id": "29bffdad",
   "metadata": {},
   "source": [
    "## taking mean closer to virat score"
   ]
  },
  {
   "cell_type": "code",
   "execution_count": 142,
   "id": "7c26eb53",
   "metadata": {},
   "outputs": [],
   "source": [
    "my_cricket_score=[22, 38, 29, 45, 48, 41, 40, 49, 47, 38, 20, 45, 46, 50, 21, 44, 29,36, 25, 24]\n",
    "\n",
    "virat_cricket_score=[33, 45, 23, 25, 46, 46, 46, 49, 49, 44, 44, 49, 25, 31, 25, 40, 30,20, 42, 37]"
   ]
  },
  {
   "cell_type": "code",
   "execution_count": 143,
   "id": "81231d34",
   "metadata": {},
   "outputs": [],
   "source": [
    "my_cricket_score_mean=np.mean(my_cricket_score)"
   ]
  },
  {
   "cell_type": "code",
   "execution_count": 144,
   "id": "d8c40fa5",
   "metadata": {},
   "outputs": [
    {
     "data": {
      "text/plain": [
       "36.85"
      ]
     },
     "execution_count": 144,
     "metadata": {},
     "output_type": "execute_result"
    }
   ],
   "source": [
    "my_cricket_score_mean"
   ]
  },
  {
   "cell_type": "code",
   "execution_count": 145,
   "id": "5295c26c",
   "metadata": {},
   "outputs": [],
   "source": [
    "virat_cricket_score_mean=np.mean(virat_cricket_score)"
   ]
  },
  {
   "cell_type": "code",
   "execution_count": 146,
   "id": "9cb63dbb",
   "metadata": {},
   "outputs": [
    {
     "data": {
      "text/plain": [
       "37.45"
      ]
     },
     "execution_count": 146,
     "metadata": {},
     "output_type": "execute_result"
    }
   ],
   "source": [
    "virat_cricket_score_mean"
   ]
  },
  {
   "cell_type": "code",
   "execution_count": null,
   "id": "f649241e",
   "metadata": {},
   "outputs": [],
   "source": [
    "my_null_hyphthesis=both sample mean will be equal"
   ]
  },
  {
   "cell_type": "code",
   "execution_count": 147,
   "id": "482cc150",
   "metadata": {},
   "outputs": [],
   "source": [
    "t_stats,pvalue=scipy.stats.ttest_ind(my_cricket_score,virat_cricket_score) # ind means independent"
   ]
  },
  {
   "cell_type": "code",
   "execution_count": 148,
   "id": "620a21c9",
   "metadata": {},
   "outputs": [
    {
     "data": {
      "text/plain": [
       "0.852719896255562"
      ]
     },
     "execution_count": 148,
     "metadata": {},
     "output_type": "execute_result"
    }
   ],
   "source": [
    "pvalue"
   ]
  },
  {
   "cell_type": "code",
   "execution_count": 149,
   "id": "8dd689e5",
   "metadata": {},
   "outputs": [
    {
     "name": "stdout",
     "output_type": "stream",
     "text": [
      "Accept the null hyphothesis\n"
     ]
    }
   ],
   "source": [
    "if pvalue<=0.05:\n",
    "    print(\"reject the null hyphothesis\")\n",
    "else:\n",
    "    print(\"Accept the null hyphothesis\")"
   ]
  },
  {
   "cell_type": "markdown",
   "id": "50d1be2a",
   "metadata": {},
   "source": [
    "## paired sample t test\n",
    "### take a sample from sample population on different time interval"
   ]
  },
  {
   "cell_type": "code",
   "execution_count": 150,
   "id": "e6661854",
   "metadata": {},
   "outputs": [],
   "source": [
    "#creating data"
   ]
  },
  {
   "cell_type": "code",
   "execution_count": 152,
   "id": "34161ee8",
   "metadata": {},
   "outputs": [],
   "source": [
    "import random\n",
    "population=[]\n",
    "for i in range(1,51):\n",
    "    population.append(random.randint(10,80))"
   ]
  },
  {
   "cell_type": "code",
   "execution_count": 153,
   "id": "368ec8df",
   "metadata": {},
   "outputs": [
    {
     "data": {
      "text/plain": [
       "50"
      ]
     },
     "execution_count": 153,
     "metadata": {},
     "output_type": "execute_result"
    }
   ],
   "source": [
    "len(population)"
   ]
  },
  {
   "cell_type": "code",
   "execution_count": 154,
   "id": "73018ecf",
   "metadata": {},
   "outputs": [],
   "source": [
    "my_cricket_score_from_first_inning=np.random.choice(population,size=20)"
   ]
  },
  {
   "cell_type": "code",
   "execution_count": 155,
   "id": "3519a4ce",
   "metadata": {},
   "outputs": [],
   "source": [
    "my_cricket_score_from_second_inning=np.random.choice(population,size=20)"
   ]
  },
  {
   "cell_type": "code",
   "execution_count": 156,
   "id": "d5226f35",
   "metadata": {},
   "outputs": [
    {
     "name": "stdout",
     "output_type": "stream",
     "text": [
      "[68 28 57 42 64 42 12 49 42 64 64 67 41 56 75 51 64 66 72 28]\n",
      "[73 49 57 41 28 75 41 73 72 58 68 57 64 75 64 46 51 35 58 57]\n"
     ]
    }
   ],
   "source": [
    "print(my_cricket_score_from_first_inning)\n",
    "print(my_cricket_score_from_second_inning)"
   ]
  },
  {
   "cell_type": "code",
   "execution_count": 157,
   "id": "34ba6ec8",
   "metadata": {},
   "outputs": [
    {
     "data": {
      "text/plain": [
       "52.6"
      ]
     },
     "execution_count": 157,
     "metadata": {},
     "output_type": "execute_result"
    }
   ],
   "source": [
    "np.mean(my_cricket_score_from_first_inning)"
   ]
  },
  {
   "cell_type": "code",
   "execution_count": 158,
   "id": "45116387",
   "metadata": {},
   "outputs": [
    {
     "data": {
      "text/plain": [
       "57.1"
      ]
     },
     "execution_count": 158,
     "metadata": {},
     "output_type": "execute_result"
    }
   ],
   "source": [
    "np.mean(my_cricket_score_from_second_inning)"
   ]
  },
  {
   "cell_type": "code",
   "execution_count": 159,
   "id": "4175f718",
   "metadata": {},
   "outputs": [],
   "source": [
    "#my_null_hyphthesis=both sample mean will be equal"
   ]
  },
  {
   "cell_type": "code",
   "execution_count": 160,
   "id": "fb9c2ded",
   "metadata": {},
   "outputs": [],
   "source": [
    "t_stats,p_value=scipy.stats.ttest_rel(my_cricket_score_from_first_inning,my_cricket_score_from_second_inning)# rel means relate"
   ]
  },
  {
   "cell_type": "code",
   "execution_count": 161,
   "id": "7a6dff66",
   "metadata": {},
   "outputs": [
    {
     "data": {
      "text/plain": [
       "0.3425181913761248"
      ]
     },
     "execution_count": 161,
     "metadata": {},
     "output_type": "execute_result"
    }
   ],
   "source": [
    "p_value"
   ]
  },
  {
   "cell_type": "code",
   "execution_count": 162,
   "id": "9e6f2337",
   "metadata": {},
   "outputs": [
    {
     "name": "stdout",
     "output_type": "stream",
     "text": [
      "Accept the null hyphothesis\n"
     ]
    }
   ],
   "source": [
    "if p_value<=0.05:\n",
    "    print(\"reject the null hyphothesis\")\n",
    "else:\n",
    "    print(\"Accept the null hyphothesis\")"
   ]
  },
  {
   "cell_type": "markdown",
   "id": "f5e6ac6c",
   "metadata": {},
   "source": [
    "### The weights of 25 obese people were taken before enrolling them into the nutrition camp.The population mean weight is found to be 45 kg before starting the camp. After finishing the camp,for the same 25 people, the sample mean was found to be 75 with a standard deviation of 25.Did the fitness camp work?"
   ]
  },
  {
   "cell_type": "code",
   "execution_count": 207,
   "id": "d652395f",
   "metadata": {},
   "outputs": [
    {
     "ename": "SyntaxError",
     "evalue": "invalid syntax (1275971827.py, line 1)",
     "output_type": "error",
     "traceback": [
      "\u001b[1;36m  Cell \u001b[1;32mIn[207], line 1\u001b[1;36m\u001b[0m\n\u001b[1;33m    h0===> mu=45(sample mean is a true/population mean)\u001b[0m\n\u001b[1;37m        ^\u001b[0m\n\u001b[1;31mSyntaxError\u001b[0m\u001b[1;31m:\u001b[0m invalid syntax\n"
     ]
    }
   ],
   "source": [
    "#h0===> mu=45(sample mean is a true/population mean)"
   ]
  },
  {
   "cell_type": "code",
   "execution_count": null,
   "id": "40343670",
   "metadata": {},
   "outputs": [],
   "source": [
    "#h1===> mu != 45 (two tail test)(sample mean is not a true/populatin mean)"
   ]
  },
  {
   "cell_type": "code",
   "execution_count": 208,
   "id": "75e0302f",
   "metadata": {},
   "outputs": [],
   "source": [
    "n=25\n",
    "populaiton_mean=45\n",
    "sample_mean=75\n",
    "sample_std=25"
   ]
  },
  {
   "cell_type": "code",
   "execution_count": 209,
   "id": "b5d16bf1",
   "metadata": {},
   "outputs": [],
   "source": [
    "n=25\n",
    "population_mean = 45\n",
    "sample_mean = 75\n",
    "sample_std = 25"
   ]
  },
  {
   "cell_type": "code",
   "execution_count": 210,
   "id": "11d89005",
   "metadata": {},
   "outputs": [],
   "source": [
    "# Calculate the t-statistic\n",
    "t_stats=(sample_mean-populaiton_mean)/(sample_std/np.sqrt(n))"
   ]
  },
  {
   "cell_type": "code",
   "execution_count": 211,
   "id": "58661295",
   "metadata": {},
   "outputs": [
    {
     "data": {
      "text/plain": [
       "6.0"
      ]
     },
     "execution_count": 211,
     "metadata": {},
     "output_type": "execute_result"
    }
   ],
   "source": [
    "t_stats"
   ]
  },
  {
   "cell_type": "code",
   "execution_count": 212,
   "id": "cfbb887d",
   "metadata": {},
   "outputs": [],
   "source": [
    "df=n-1"
   ]
  },
  {
   "cell_type": "code",
   "execution_count": 213,
   "id": "293c2809",
   "metadata": {},
   "outputs": [
    {
     "data": {
      "text/plain": [
       "24"
      ]
     },
     "execution_count": 213,
     "metadata": {},
     "output_type": "execute_result"
    }
   ],
   "source": [
    "df"
   ]
  },
  {
   "cell_type": "code",
   "execution_count": 214,
   "id": "6d73eea4",
   "metadata": {},
   "outputs": [],
   "source": [
    "# Find p_value\n",
    "p_value = (1 - stats.t.cdf(abs(t_stats), df))"
   ]
  },
  {
   "cell_type": "code",
   "execution_count": 215,
   "id": "7a76192a",
   "metadata": {},
   "outputs": [
    {
     "data": {
      "text/plain": [
       "1.703654035845048e-06"
      ]
     },
     "execution_count": 215,
     "metadata": {},
     "output_type": "execute_result"
    }
   ],
   "source": [
    "p_value"
   ]
  },
  {
   "cell_type": "code",
   "execution_count": 216,
   "id": "816743d6",
   "metadata": {},
   "outputs": [
    {
     "name": "stdout",
     "output_type": "stream",
     "text": [
      "Reject the null hypothesis. The fitness camp had a significant impact.\n"
     ]
    }
   ],
   "source": [
    "alpha = 0.05\n",
    "\n",
    "if p_value < alpha:\n",
    "    print(\"Reject the null hypothesis. The fitness camp had a significant impact.\")\n",
    "else:\n",
    "    print(\"Fail to reject the null hypothesis. The fitness camp did not have a significant impact.\")"
   ]
  },
  {
   "cell_type": "code",
   "execution_count": 217,
   "id": "ce6f8218",
   "metadata": {},
   "outputs": [],
   "source": [
    "CI=0.95"
   ]
  },
  {
   "cell_type": "code",
   "execution_count": 218,
   "id": "1498cee8",
   "metadata": {},
   "outputs": [],
   "source": [
    "critical_value=stats.t.ppf(CI,df)"
   ]
  },
  {
   "cell_type": "code",
   "execution_count": 219,
   "id": "894c7873",
   "metadata": {},
   "outputs": [
    {
     "data": {
      "text/plain": [
       "1.7108820799094275"
      ]
     },
     "execution_count": 219,
     "metadata": {},
     "output_type": "execute_result"
    }
   ],
   "source": [
    "critical_value"
   ]
  },
  {
   "cell_type": "code",
   "execution_count": 220,
   "id": "616944eb",
   "metadata": {},
   "outputs": [
    {
     "name": "stdout",
     "output_type": "stream",
     "text": [
      "t-stats 6.0\n",
      "crtical value 1.7108820799094275\n"
     ]
    }
   ],
   "source": [
    "print(\"t-stats\",t_stats)\n",
    "print(\"crtical value\",critical_value)"
   ]
  },
  {
   "cell_type": "code",
   "execution_count": 221,
   "id": "c9fe78be",
   "metadata": {},
   "outputs": [],
   "source": [
    "p_valuee=1-stats.t.cdf(t_stats,df)"
   ]
  },
  {
   "cell_type": "code",
   "execution_count": 222,
   "id": "b2f9948a",
   "metadata": {},
   "outputs": [
    {
     "data": {
      "text/plain": [
       "1.703654035845048e-06"
      ]
     },
     "execution_count": 222,
     "metadata": {},
     "output_type": "execute_result"
    }
   ],
   "source": [
    "p_valuee"
   ]
  },
  {
   "cell_type": "markdown",
   "id": "4f81a563",
   "metadata": {},
   "source": [
    "### In the population the average IQ is 100. A team of researchers want to test  new medication to see if it has either a positive or negative effect on intelligence, or no effect at all. A sample of 30 participants who have taken the medication has a mean of 140 with a Standard deviation of 20. Did the medication affect intelligence?"
   ]
  },
  {
   "cell_type": "code",
   "execution_count": 226,
   "id": "71eec463",
   "metadata": {},
   "outputs": [],
   "source": [
    "popn_mean =100\n",
    "n = 30\n",
    "sample_mean = 140\n",
    "samp_std = 20"
   ]
  },
  {
   "cell_type": "code",
   "execution_count": 227,
   "id": "7579fcc1",
   "metadata": {},
   "outputs": [],
   "source": [
    "Ho = mu = 100\n",
    "H1 = mu != 100"
   ]
  },
  {
   "cell_type": "code",
   "execution_count": 228,
   "id": "c86bcfd3",
   "metadata": {},
   "outputs": [],
   "source": [
    "t_stats=(sample_mean-popn_mean)/(samp_std/np.sqrt(n))"
   ]
  },
  {
   "cell_type": "code",
   "execution_count": 229,
   "id": "0c1e3574",
   "metadata": {},
   "outputs": [
    {
     "data": {
      "text/plain": [
       "10.954451150103322"
      ]
     },
     "execution_count": 229,
     "metadata": {},
     "output_type": "execute_result"
    }
   ],
   "source": [
    "t_stats"
   ]
  },
  {
   "cell_type": "code",
   "execution_count": 230,
   "id": "011b0488",
   "metadata": {},
   "outputs": [],
   "source": [
    "df=n-1"
   ]
  },
  {
   "cell_type": "code",
   "execution_count": 231,
   "id": "2a349173",
   "metadata": {},
   "outputs": [
    {
     "data": {
      "text/plain": [
       "29"
      ]
     },
     "execution_count": 231,
     "metadata": {},
     "output_type": "execute_result"
    }
   ],
   "source": [
    "df"
   ]
  },
  {
   "cell_type": "code",
   "execution_count": 232,
   "id": "201efc48",
   "metadata": {},
   "outputs": [],
   "source": [
    "alpha=0.05\n",
    "CI = 0.95"
   ]
  },
  {
   "cell_type": "code",
   "execution_count": 233,
   "id": "9300a3e9",
   "metadata": {},
   "outputs": [],
   "source": [
    "critical_value=stats.t.ppf(CI,df)"
   ]
  },
  {
   "cell_type": "code",
   "execution_count": 234,
   "id": "3a4b7d25",
   "metadata": {},
   "outputs": [
    {
     "data": {
      "text/plain": [
       "1.6991270265334972"
      ]
     },
     "execution_count": 234,
     "metadata": {},
     "output_type": "execute_result"
    }
   ],
   "source": [
    "critical_value"
   ]
  },
  {
   "cell_type": "code",
   "execution_count": 235,
   "id": "98ee9cc9",
   "metadata": {},
   "outputs": [],
   "source": [
    "p_value=1-stats.t.cdf(t_stats,df)"
   ]
  },
  {
   "cell_type": "code",
   "execution_count": 236,
   "id": "ecba8dd3",
   "metadata": {},
   "outputs": [
    {
     "data": {
      "text/plain": [
       "4.010680676458378e-12"
      ]
     },
     "execution_count": 236,
     "metadata": {},
     "output_type": "execute_result"
    }
   ],
   "source": [
    "p_value"
   ]
  },
  {
   "cell_type": "code",
   "execution_count": 237,
   "id": "54a74dad",
   "metadata": {},
   "outputs": [],
   "source": [
    "pva= p_value / 2"
   ]
  },
  {
   "cell_type": "code",
   "execution_count": 238,
   "id": "29127a6a",
   "metadata": {},
   "outputs": [
    {
     "data": {
      "text/plain": [
       "2.005340338229189e-12"
      ]
     },
     "execution_count": 238,
     "metadata": {},
     "output_type": "execute_result"
    }
   ],
   "source": [
    "pva"
   ]
  },
  {
   "cell_type": "code",
   "execution_count": 239,
   "id": "5c048b47",
   "metadata": {},
   "outputs": [],
   "source": [
    "# 10.95 > 2.005 . Reject the null hypothesis"
   ]
  },
  {
   "cell_type": "markdown",
   "id": "ec16024d",
   "metadata": {},
   "source": [
    "# ******------***** Chi Square Test ******------*****"
   ]
  },
  {
   "cell_type": "code",
   "execution_count": 241,
   "id": "3c53dff3",
   "metadata": {},
   "outputs": [],
   "source": [
    "dataset=sns.load_dataset('tips')"
   ]
  },
  {
   "cell_type": "code",
   "execution_count": 242,
   "id": "f46a53f7",
   "metadata": {},
   "outputs": [
    {
     "data": {
      "text/html": [
       "<div>\n",
       "<style scoped>\n",
       "    .dataframe tbody tr th:only-of-type {\n",
       "        vertical-align: middle;\n",
       "    }\n",
       "\n",
       "    .dataframe tbody tr th {\n",
       "        vertical-align: top;\n",
       "    }\n",
       "\n",
       "    .dataframe thead th {\n",
       "        text-align: right;\n",
       "    }\n",
       "</style>\n",
       "<table border=\"1\" class=\"dataframe\">\n",
       "  <thead>\n",
       "    <tr style=\"text-align: right;\">\n",
       "      <th></th>\n",
       "      <th>total_bill</th>\n",
       "      <th>tip</th>\n",
       "      <th>sex</th>\n",
       "      <th>smoker</th>\n",
       "      <th>day</th>\n",
       "      <th>time</th>\n",
       "      <th>size</th>\n",
       "    </tr>\n",
       "  </thead>\n",
       "  <tbody>\n",
       "    <tr>\n",
       "      <th>0</th>\n",
       "      <td>16.99</td>\n",
       "      <td>1.01</td>\n",
       "      <td>Female</td>\n",
       "      <td>No</td>\n",
       "      <td>Sun</td>\n",
       "      <td>Dinner</td>\n",
       "      <td>2</td>\n",
       "    </tr>\n",
       "    <tr>\n",
       "      <th>1</th>\n",
       "      <td>10.34</td>\n",
       "      <td>1.66</td>\n",
       "      <td>Male</td>\n",
       "      <td>No</td>\n",
       "      <td>Sun</td>\n",
       "      <td>Dinner</td>\n",
       "      <td>3</td>\n",
       "    </tr>\n",
       "    <tr>\n",
       "      <th>2</th>\n",
       "      <td>21.01</td>\n",
       "      <td>3.50</td>\n",
       "      <td>Male</td>\n",
       "      <td>No</td>\n",
       "      <td>Sun</td>\n",
       "      <td>Dinner</td>\n",
       "      <td>3</td>\n",
       "    </tr>\n",
       "    <tr>\n",
       "      <th>3</th>\n",
       "      <td>23.68</td>\n",
       "      <td>3.31</td>\n",
       "      <td>Male</td>\n",
       "      <td>No</td>\n",
       "      <td>Sun</td>\n",
       "      <td>Dinner</td>\n",
       "      <td>2</td>\n",
       "    </tr>\n",
       "    <tr>\n",
       "      <th>4</th>\n",
       "      <td>24.59</td>\n",
       "      <td>3.61</td>\n",
       "      <td>Female</td>\n",
       "      <td>No</td>\n",
       "      <td>Sun</td>\n",
       "      <td>Dinner</td>\n",
       "      <td>4</td>\n",
       "    </tr>\n",
       "    <tr>\n",
       "      <th>...</th>\n",
       "      <td>...</td>\n",
       "      <td>...</td>\n",
       "      <td>...</td>\n",
       "      <td>...</td>\n",
       "      <td>...</td>\n",
       "      <td>...</td>\n",
       "      <td>...</td>\n",
       "    </tr>\n",
       "    <tr>\n",
       "      <th>239</th>\n",
       "      <td>29.03</td>\n",
       "      <td>5.92</td>\n",
       "      <td>Male</td>\n",
       "      <td>No</td>\n",
       "      <td>Sat</td>\n",
       "      <td>Dinner</td>\n",
       "      <td>3</td>\n",
       "    </tr>\n",
       "    <tr>\n",
       "      <th>240</th>\n",
       "      <td>27.18</td>\n",
       "      <td>2.00</td>\n",
       "      <td>Female</td>\n",
       "      <td>Yes</td>\n",
       "      <td>Sat</td>\n",
       "      <td>Dinner</td>\n",
       "      <td>2</td>\n",
       "    </tr>\n",
       "    <tr>\n",
       "      <th>241</th>\n",
       "      <td>22.67</td>\n",
       "      <td>2.00</td>\n",
       "      <td>Male</td>\n",
       "      <td>Yes</td>\n",
       "      <td>Sat</td>\n",
       "      <td>Dinner</td>\n",
       "      <td>2</td>\n",
       "    </tr>\n",
       "    <tr>\n",
       "      <th>242</th>\n",
       "      <td>17.82</td>\n",
       "      <td>1.75</td>\n",
       "      <td>Male</td>\n",
       "      <td>No</td>\n",
       "      <td>Sat</td>\n",
       "      <td>Dinner</td>\n",
       "      <td>2</td>\n",
       "    </tr>\n",
       "    <tr>\n",
       "      <th>243</th>\n",
       "      <td>18.78</td>\n",
       "      <td>3.00</td>\n",
       "      <td>Female</td>\n",
       "      <td>No</td>\n",
       "      <td>Thur</td>\n",
       "      <td>Dinner</td>\n",
       "      <td>2</td>\n",
       "    </tr>\n",
       "  </tbody>\n",
       "</table>\n",
       "<p>244 rows × 7 columns</p>\n",
       "</div>"
      ],
      "text/plain": [
       "     total_bill   tip     sex smoker   day    time  size\n",
       "0         16.99  1.01  Female     No   Sun  Dinner     2\n",
       "1         10.34  1.66    Male     No   Sun  Dinner     3\n",
       "2         21.01  3.50    Male     No   Sun  Dinner     3\n",
       "3         23.68  3.31    Male     No   Sun  Dinner     2\n",
       "4         24.59  3.61  Female     No   Sun  Dinner     4\n",
       "..          ...   ...     ...    ...   ...     ...   ...\n",
       "239       29.03  5.92    Male     No   Sat  Dinner     3\n",
       "240       27.18  2.00  Female    Yes   Sat  Dinner     2\n",
       "241       22.67  2.00    Male    Yes   Sat  Dinner     2\n",
       "242       17.82  1.75    Male     No   Sat  Dinner     2\n",
       "243       18.78  3.00  Female     No  Thur  Dinner     2\n",
       "\n",
       "[244 rows x 7 columns]"
      ]
     },
     "execution_count": 242,
     "metadata": {},
     "output_type": "execute_result"
    }
   ],
   "source": [
    "dataset"
   ]
  },
  {
   "cell_type": "code",
   "execution_count": 243,
   "id": "5c1cd4b6",
   "metadata": {},
   "outputs": [
    {
     "name": "stdout",
     "output_type": "stream",
     "text": [
      "<class 'pandas.core.frame.DataFrame'>\n",
      "RangeIndex: 244 entries, 0 to 243\n",
      "Data columns (total 7 columns):\n",
      " #   Column      Non-Null Count  Dtype   \n",
      "---  ------      --------------  -----   \n",
      " 0   total_bill  244 non-null    float64 \n",
      " 1   tip         244 non-null    float64 \n",
      " 2   sex         244 non-null    category\n",
      " 3   smoker      244 non-null    category\n",
      " 4   day         244 non-null    category\n",
      " 5   time        244 non-null    category\n",
      " 6   size        244 non-null    int64   \n",
      "dtypes: category(4), float64(2), int64(1)\n",
      "memory usage: 7.4 KB\n"
     ]
    }
   ],
   "source": [
    "dataset.info()"
   ]
  },
  {
   "cell_type": "code",
   "execution_count": 245,
   "id": "764e1730",
   "metadata": {},
   "outputs": [
    {
     "data": {
      "text/plain": [
       "Index(['total_bill', 'tip', 'sex', 'smoker', 'day', 'time', 'size'], dtype='object')"
      ]
     },
     "execution_count": 245,
     "metadata": {},
     "output_type": "execute_result"
    }
   ],
   "source": [
    "dataset.columns"
   ]
  },
  {
   "cell_type": "code",
   "execution_count": 246,
   "id": "bdab15ac",
   "metadata": {},
   "outputs": [],
   "source": [
    "# this chi squre test we peform on top of thge categorical data"
   ]
  },
  {
   "cell_type": "code",
   "execution_count": 247,
   "id": "9fbc473e",
   "metadata": {},
   "outputs": [
    {
     "data": {
      "text/html": [
       "<div>\n",
       "<style scoped>\n",
       "    .dataframe tbody tr th:only-of-type {\n",
       "        vertical-align: middle;\n",
       "    }\n",
       "\n",
       "    .dataframe tbody tr th {\n",
       "        vertical-align: top;\n",
       "    }\n",
       "\n",
       "    .dataframe thead th {\n",
       "        text-align: right;\n",
       "    }\n",
       "</style>\n",
       "<table border=\"1\" class=\"dataframe\">\n",
       "  <thead>\n",
       "    <tr style=\"text-align: right;\">\n",
       "      <th></th>\n",
       "      <th>total_bill</th>\n",
       "      <th>tip</th>\n",
       "      <th>sex</th>\n",
       "      <th>smoker</th>\n",
       "      <th>day</th>\n",
       "      <th>time</th>\n",
       "      <th>size</th>\n",
       "    </tr>\n",
       "  </thead>\n",
       "  <tbody>\n",
       "    <tr>\n",
       "      <th>0</th>\n",
       "      <td>16.99</td>\n",
       "      <td>1.01</td>\n",
       "      <td>Female</td>\n",
       "      <td>No</td>\n",
       "      <td>Sun</td>\n",
       "      <td>Dinner</td>\n",
       "      <td>2</td>\n",
       "    </tr>\n",
       "    <tr>\n",
       "      <th>1</th>\n",
       "      <td>10.34</td>\n",
       "      <td>1.66</td>\n",
       "      <td>Male</td>\n",
       "      <td>No</td>\n",
       "      <td>Sun</td>\n",
       "      <td>Dinner</td>\n",
       "      <td>3</td>\n",
       "    </tr>\n",
       "    <tr>\n",
       "      <th>2</th>\n",
       "      <td>21.01</td>\n",
       "      <td>3.50</td>\n",
       "      <td>Male</td>\n",
       "      <td>No</td>\n",
       "      <td>Sun</td>\n",
       "      <td>Dinner</td>\n",
       "      <td>3</td>\n",
       "    </tr>\n",
       "    <tr>\n",
       "      <th>3</th>\n",
       "      <td>23.68</td>\n",
       "      <td>3.31</td>\n",
       "      <td>Male</td>\n",
       "      <td>No</td>\n",
       "      <td>Sun</td>\n",
       "      <td>Dinner</td>\n",
       "      <td>2</td>\n",
       "    </tr>\n",
       "    <tr>\n",
       "      <th>4</th>\n",
       "      <td>24.59</td>\n",
       "      <td>3.61</td>\n",
       "      <td>Female</td>\n",
       "      <td>No</td>\n",
       "      <td>Sun</td>\n",
       "      <td>Dinner</td>\n",
       "      <td>4</td>\n",
       "    </tr>\n",
       "  </tbody>\n",
       "</table>\n",
       "</div>"
      ],
      "text/plain": [
       "   total_bill   tip     sex smoker  day    time  size\n",
       "0       16.99  1.01  Female     No  Sun  Dinner     2\n",
       "1       10.34  1.66    Male     No  Sun  Dinner     3\n",
       "2       21.01  3.50    Male     No  Sun  Dinner     3\n",
       "3       23.68  3.31    Male     No  Sun  Dinner     2\n",
       "4       24.59  3.61  Female     No  Sun  Dinner     4"
      ]
     },
     "execution_count": 247,
     "metadata": {},
     "output_type": "execute_result"
    }
   ],
   "source": [
    "dataset.head()"
   ]
  },
  {
   "cell_type": "code",
   "execution_count": 250,
   "id": "11c71862",
   "metadata": {},
   "outputs": [],
   "source": [
    "import pandas as pd\n",
    "dataset_table=pd.crosstab(dataset['sex'],dataset['smoker'])"
   ]
  },
  {
   "cell_type": "code",
   "execution_count": 251,
   "id": "029b72f9",
   "metadata": {},
   "outputs": [
    {
     "data": {
      "text/html": [
       "<div>\n",
       "<style scoped>\n",
       "    .dataframe tbody tr th:only-of-type {\n",
       "        vertical-align: middle;\n",
       "    }\n",
       "\n",
       "    .dataframe tbody tr th {\n",
       "        vertical-align: top;\n",
       "    }\n",
       "\n",
       "    .dataframe thead th {\n",
       "        text-align: right;\n",
       "    }\n",
       "</style>\n",
       "<table border=\"1\" class=\"dataframe\">\n",
       "  <thead>\n",
       "    <tr style=\"text-align: right;\">\n",
       "      <th>smoker</th>\n",
       "      <th>Yes</th>\n",
       "      <th>No</th>\n",
       "    </tr>\n",
       "    <tr>\n",
       "      <th>sex</th>\n",
       "      <th></th>\n",
       "      <th></th>\n",
       "    </tr>\n",
       "  </thead>\n",
       "  <tbody>\n",
       "    <tr>\n",
       "      <th>Male</th>\n",
       "      <td>60</td>\n",
       "      <td>97</td>\n",
       "    </tr>\n",
       "    <tr>\n",
       "      <th>Female</th>\n",
       "      <td>33</td>\n",
       "      <td>54</td>\n",
       "    </tr>\n",
       "  </tbody>\n",
       "</table>\n",
       "</div>"
      ],
      "text/plain": [
       "smoker  Yes  No\n",
       "sex            \n",
       "Male     60  97\n",
       "Female   33  54"
      ]
     },
     "execution_count": 251,
     "metadata": {},
     "output_type": "execute_result"
    }
   ],
   "source": [
    "dataset_table"
   ]
  },
  {
   "cell_type": "code",
   "execution_count": 253,
   "id": "841ad21d",
   "metadata": {},
   "outputs": [],
   "source": [
    "dataset_array=dataset_table.values"
   ]
  },
  {
   "cell_type": "code",
   "execution_count": 271,
   "id": "849e75c1",
   "metadata": {},
   "outputs": [],
   "source": [
    "observed_value=dataset_array # this is observed value array"
   ]
  },
  {
   "cell_type": "code",
   "execution_count": 272,
   "id": "30a59c9c",
   "metadata": {},
   "outputs": [
    {
     "data": {
      "text/plain": [
       "array([[60, 97],\n",
       "       [33, 54]], dtype=int64)"
      ]
     },
     "execution_count": 272,
     "metadata": {},
     "output_type": "execute_result"
    }
   ],
   "source": [
    "observed_value"
   ]
  },
  {
   "cell_type": "code",
   "execution_count": 255,
   "id": "09132a4c",
   "metadata": {},
   "outputs": [],
   "source": [
    "import scipy.stats as stats"
   ]
  },
  {
   "cell_type": "code",
   "execution_count": 257,
   "id": "8bafcb03",
   "metadata": {},
   "outputs": [],
   "source": [
    "stats_test,p,dof,expected_value=stats.chi2_contingency(dataset_array) # it will give array of expected value"
   ]
  },
  {
   "cell_type": "code",
   "execution_count": 258,
   "id": "d1cc99d3",
   "metadata": {},
   "outputs": [
    {
     "data": {
      "text/plain": [
       "array([[59.84016393, 97.15983607],\n",
       "       [33.15983607, 53.84016393]])"
      ]
     },
     "execution_count": 258,
     "metadata": {},
     "output_type": "execute_result"
    }
   ],
   "source": [
    "expected_value"
   ]
  },
  {
   "cell_type": "code",
   "execution_count": 262,
   "id": "b722ff18",
   "metadata": {},
   "outputs": [],
   "source": [
    "no_of_rows=dataset_table.iloc[0,0:2]"
   ]
  },
  {
   "cell_type": "code",
   "execution_count": 263,
   "id": "2d490f19",
   "metadata": {},
   "outputs": [
    {
     "data": {
      "text/plain": [
       "smoker\n",
       "Yes    60\n",
       "No     97\n",
       "Name: Male, dtype: int64"
      ]
     },
     "execution_count": 263,
     "metadata": {},
     "output_type": "execute_result"
    }
   ],
   "source": [
    "no_of_rows"
   ]
  },
  {
   "cell_type": "code",
   "execution_count": 266,
   "id": "7266a220",
   "metadata": {},
   "outputs": [
    {
     "data": {
      "text/plain": [
       "2"
      ]
     },
     "execution_count": 266,
     "metadata": {},
     "output_type": "execute_result"
    }
   ],
   "source": [
    "len(no_of_rows)"
   ]
  },
  {
   "cell_type": "code",
   "execution_count": 264,
   "id": "94a83a9d",
   "metadata": {},
   "outputs": [],
   "source": [
    "no_of_colmn=dataset_table.iloc[0:2,0]"
   ]
  },
  {
   "cell_type": "code",
   "execution_count": 265,
   "id": "72e06f22",
   "metadata": {},
   "outputs": [
    {
     "data": {
      "text/plain": [
       "sex\n",
       "Male      60\n",
       "Female    33\n",
       "Name: Yes, dtype: int64"
      ]
     },
     "execution_count": 265,
     "metadata": {},
     "output_type": "execute_result"
    }
   ],
   "source": [
    "no_of_colmn"
   ]
  },
  {
   "cell_type": "code",
   "execution_count": 267,
   "id": "cd9dc0af",
   "metadata": {},
   "outputs": [
    {
     "data": {
      "text/plain": [
       "2"
      ]
     },
     "execution_count": 267,
     "metadata": {},
     "output_type": "execute_result"
    }
   ],
   "source": [
    "len(no_of_colmn)"
   ]
  },
  {
   "cell_type": "code",
   "execution_count": 268,
   "id": "b7ea34a4",
   "metadata": {},
   "outputs": [],
   "source": [
    "dof=(len(no_of_colmn)-1) * (len(no_of_rows)-1)"
   ]
  },
  {
   "cell_type": "code",
   "execution_count": 269,
   "id": "6cf8aaf9",
   "metadata": {},
   "outputs": [
    {
     "data": {
      "text/plain": [
       "1"
      ]
     },
     "execution_count": 269,
     "metadata": {},
     "output_type": "execute_result"
    }
   ],
   "source": [
    "dof"
   ]
  },
  {
   "cell_type": "code",
   "execution_count": 270,
   "id": "4bf4e544",
   "metadata": {},
   "outputs": [],
   "source": [
    "# chi square formula = χ2 = ∑(O – E)^2/E   O=observed , E=expected"
   ]
  },
  {
   "cell_type": "code",
   "execution_count": 274,
   "id": "664b8c17",
   "metadata": {},
   "outputs": [],
   "source": [
    "from scipy.stats import chi2\n",
    "chisq=sum([(o-e)**2/e for o,e in zip(observed_value,expected_value)])"
   ]
  },
  {
   "cell_type": "code",
   "execution_count": 275,
   "id": "94b2217e",
   "metadata": {},
   "outputs": [
    {
     "data": {
      "text/plain": [
       "array([0.00119737, 0.00073745])"
      ]
     },
     "execution_count": 275,
     "metadata": {},
     "output_type": "execute_result"
    }
   ],
   "source": [
    "chisq"
   ]
  },
  {
   "cell_type": "code",
   "execution_count": 278,
   "id": "9eee10a4",
   "metadata": {},
   "outputs": [],
   "source": [
    "chisqstats=chisq[0] + chisq[1]"
   ]
  },
  {
   "cell_type": "code",
   "execution_count": 279,
   "id": "4840c8a8",
   "metadata": {},
   "outputs": [
    {
     "data": {
      "text/plain": [
       "0.001934818536627623"
      ]
     },
     "execution_count": 279,
     "metadata": {},
     "output_type": "execute_result"
    }
   ],
   "source": [
    "chisqstats"
   ]
  },
  {
   "cell_type": "code",
   "execution_count": 276,
   "id": "7c43b466",
   "metadata": {},
   "outputs": [],
   "source": [
    "alpha=0.5\n",
    "CI = 0.95"
   ]
  },
  {
   "cell_type": "code",
   "execution_count": 280,
   "id": "2378428b",
   "metadata": {},
   "outputs": [],
   "source": [
    "crit_value=chi2.ppf(CI,dof)"
   ]
  },
  {
   "cell_type": "code",
   "execution_count": 281,
   "id": "8663f1ca",
   "metadata": {},
   "outputs": [
    {
     "data": {
      "text/plain": [
       "3.841458820694124"
      ]
     },
     "execution_count": 281,
     "metadata": {},
     "output_type": "execute_result"
    }
   ],
   "source": [
    "crit_value"
   ]
  },
  {
   "cell_type": "code",
   "execution_count": 282,
   "id": "c06b4995",
   "metadata": {},
   "outputs": [
    {
     "name": "stdout",
     "output_type": "stream",
     "text": [
      "accept the null hyphothesis there is no relation between two categorical variable\n"
     ]
    }
   ],
   "source": [
    "if chisqstats >= crit_value:\n",
    "    print(\"Reject the hypo , there is a relationship between 2 categorical var\")\n",
    "else:\n",
    "    print(\"accept the null hyphothesis there is no relation between two categorical variable\")"
   ]
  },
  {
   "cell_type": "code",
   "execution_count": null,
   "id": "132307e4",
   "metadata": {},
   "outputs": [],
   "source": []
  }
 ],
 "metadata": {
  "kernelspec": {
   "display_name": "Python 3 (ipykernel)",
   "language": "python",
   "name": "python3"
  },
  "language_info": {
   "codemirror_mode": {
    "name": "ipython",
    "version": 3
   },
   "file_extension": ".py",
   "mimetype": "text/x-python",
   "name": "python",
   "nbconvert_exporter": "python",
   "pygments_lexer": "ipython3",
   "version": "3.11.3"
  }
 },
 "nbformat": 4,
 "nbformat_minor": 5
}
